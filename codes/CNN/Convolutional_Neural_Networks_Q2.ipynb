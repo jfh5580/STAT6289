{
  "nbformat": 4,
  "nbformat_minor": 0,
  "metadata": {
    "colab": {
      "provenance": [],
      "machine_shape": "hm",
      "gpuType": "A100"
    },
    "kernelspec": {
      "name": "python3",
      "display_name": "Python 3"
    },
    "language_info": {
      "name": "python"
    },
    "accelerator": "GPU"
  },
  "cells": [
    {
      "cell_type": "code",
      "execution_count": null,
      "metadata": {
        "id": "PiHuxaDTVLm-"
      },
      "outputs": [],
      "source": [
        "from __future__ import print_function\n",
        "import keras\n",
        "from keras.datasets import cifar10\n",
        "from keras.preprocessing.image import ImageDataGenerator\n",
        "from keras.models import Sequential\n",
        "from keras.layers import Dense, Dropout, Activation, Flatten\n",
        "from keras.layers import Conv2D, MaxPooling2D\n",
        "import os\n",
        "import matplotlib.pyplot as plt\n",
        "\n",
        "# Constants\n",
        "batch_size = 512\n",
        "num_classes = 10\n",
        "epochs = 10\n",
        "data_augmentation = True\n",
        "save_dir = os.path.join(os.getcwd(), 'saved_models')\n",
        "model_name = 'keras_cifar10_trained_model.h5'"
      ]
    },
    {
      "cell_type": "code",
      "source": [
        "# Load CIFAR-10 dataset\n",
        "(x_train, y_train), (x_test, y_test) = cifar10.load_data()\n",
        "print('x_train shape:', x_train.shape)\n",
        "print(x_train.shape[0], 'train samples')\n",
        "print(x_test.shape[0], 'test samples')\n",
        "\n",
        "# Convert class vectors to binary class matrices\n",
        "y_train = keras.utils.to_categorical(y_train, num_classes)\n",
        "y_test = keras.utils.to_categorical(y_test, num_classes)\n",
        "\n",
        "# Train the CNN model and get its validation accuracy\n",
        "model = Sequential()\n",
        "model.add(Conv2D(32, (3, 3), padding='same', input_shape=x_train.shape[1:]))\n",
        "model.add(Activation('relu'))\n",
        "model.add(Conv2D(32, (3, 3)))\n",
        "model.add(Activation('relu'))\n",
        "model.add(MaxPooling2D(pool_size=(2, 2)))\n",
        "model.add(Dropout(0.25))\n",
        "\n",
        "model.add(Conv2D(64, (3, 3), padding='same'))\n",
        "model.add(Activation('relu'))\n",
        "model.add(Conv2D(64, (3, 3)))\n",
        "model.add(Activation('relu'))\n",
        "model.add(MaxPooling2D(pool_size=(2, 2)))\n",
        "model.add(Dropout(0.25))\n",
        "\n",
        "model.add(Flatten())\n",
        "model.add(Dense(512))\n",
        "model.add(Activation('relu'))\n",
        "model.add(Dropout(0.5))\n",
        "model.add(Dense(num_classes))\n",
        "model.add(Activation('softmax'))\n",
        "\n",
        "\n",
        "# Define a function to create the CNN model with sigmoid units\n",
        "def create_sigmoid_cnn():\n",
        "    model = Sequential()\n",
        "    model.add(Conv2D(32, (3, 3), padding='same', input_shape=x_train.shape[1:]))\n",
        "    model.add(Activation('sigmoid'))  # Use sigmoid activation\n",
        "    model.add(Conv2D(32, (3, 3)))\n",
        "    model.add(Activation('sigmoid'))  # Use sigmoid activation\n",
        "    model.add(MaxPooling2D(pool_size=(2, 2)))\n",
        "    model.add(Dropout(0.25))\n",
        "\n",
        "    model.add(Conv2D(64, (3, 3), padding='same'))\n",
        "    model.add(Activation('sigmoid'))  # Use sigmoid activation\n",
        "    model.add(Conv2D(64, (3, 3)))\n",
        "    model.add(Activation('sigmoid'))  # Use sigmoid activation\n",
        "    model.add(MaxPooling2D(pool_size=(2, 2)))\n",
        "    model.add(Dropout(0.25))\n",
        "\n",
        "    model.add(Flatten())\n",
        "    model.add(Dense(512))\n",
        "    model.add(Activation('sigmoid'))  # Use sigmoid activation\n",
        "    model.add(Dropout(0.5))\n",
        "    model.add(Dense(num_classes))\n",
        "    model.add(Activation('softmax'))\n",
        "    return model\n",
        "\n",
        "# Create the CNN model with sigmoid units\n",
        "model_sigmoid = create_sigmoid_cnn()"
      ],
      "metadata": {
        "colab": {
          "base_uri": "https://localhost:8080/"
        },
        "id": "fAuzBUL7XNxE",
        "outputId": "8eb8756a-d931-46ba-88ae-3d08ebccaa7c"
      },
      "execution_count": null,
      "outputs": [
        {
          "output_type": "stream",
          "name": "stdout",
          "text": [
            "x_train shape: (50000, 32, 32, 3)\n",
            "50000 train samples\n",
            "10000 test samples\n"
          ]
        }
      ]
    },
    {
      "cell_type": "code",
      "source": [
        "# RMSprop optimizer\n",
        "opt = keras.optimizers.legacy.RMSprop(learning_rate=0.0001, decay=1e-6)\n",
        "\n",
        "# Compile the model\n",
        "model.compile(loss='categorical_crossentropy', optimizer=opt, metrics=['accuracy'])\n",
        "\n",
        "# Train and evaluate the models\n",
        "validation_accuracies = []\n",
        "# Preprocess the data\n",
        "x_train = x_train.astype('float32')\n",
        "x_test = x_test.astype('float32')\n",
        "x_train /= 255\n",
        "x_test /= 255\n",
        "\n",
        "if not data_augmentation:\n",
        "    print('Not using data augmentation.')\n",
        "    history = model.fit(x_train, y_train, batch_size=batch_size, epochs=epochs, validation_data=(x_test, y_test), shuffle=True)\n",
        "    validation_accuracies.append(history.history['val_accuracy'])\n",
        "else:\n",
        "    print('Using real-time data augmentation.')\n",
        "\n",
        "    # Data augmentation\n",
        "    datagen = ImageDataGenerator(\n",
        "        featurewise_center=False,\n",
        "        samplewise_center=False,\n",
        "        featurewise_std_normalization=False,\n",
        "        samplewise_std_normalization=False,\n",
        "        zca_whitening=False,\n",
        "        zca_epsilon=1e-06,\n",
        "        rotation_range=0,\n",
        "        width_shift_range=0.1,\n",
        "        height_shift_range=0.1,\n",
        "        shear_range=0,\n",
        "        zoom_range=0,\n",
        "        channel_shift_range=0,\n",
        "        fill_mode='nearest',\n",
        "        cval=0,\n",
        "        horizontal_flip=True,\n",
        "        vertical_flip=False,\n",
        "        rescale=None,\n",
        "        preprocessing_function=None,\n",
        "        data_format=None,\n",
        "        validation_split=0.0\n",
        "    )\n",
        "\n",
        "    # Compute quantities required for feature-wise normalization\n",
        "    datagen.fit(x_train)\n",
        "\n",
        "    # Fit the model with data augmentation\n",
        "    history = model.fit_generator(\n",
        "        datagen.flow(x_train, y_train, batch_size=batch_size),\n",
        "        epochs=epochs,\n",
        "        validation_data=(x_test, y_test),\n",
        "        workers=4\n",
        "    )\n",
        "    validation_accuracies.append(history.history['val_accuracy'])"
      ],
      "metadata": {
        "colab": {
          "base_uri": "https://localhost:8080/"
        },
        "id": "FnJjkG80qjlG",
        "outputId": "19b369fe-0882-4e63-8f8e-340356906ca6"
      },
      "execution_count": null,
      "outputs": [
        {
          "output_type": "stream",
          "name": "stdout",
          "text": [
            "Using real-time data augmentation.\n"
          ]
        },
        {
          "output_type": "stream",
          "name": "stderr",
          "text": [
            "<ipython-input-16-562516f083be>:50: UserWarning: `Model.fit_generator` is deprecated and will be removed in a future version. Please use `Model.fit`, which supports generators.\n",
            "  history = model.fit_generator(\n"
          ]
        },
        {
          "output_type": "stream",
          "name": "stdout",
          "text": [
            "Epoch 1/10\n",
            "98/98 [==============================] - 29s 282ms/step - loss: 2.1205 - accuracy: 0.2141 - val_loss: 1.9521 - val_accuracy: 0.3184\n",
            "Epoch 2/10\n",
            "98/98 [==============================] - 29s 279ms/step - loss: 1.9184 - accuracy: 0.3051 - val_loss: 1.7949 - val_accuracy: 0.3810\n",
            "Epoch 3/10\n",
            "98/98 [==============================] - 29s 285ms/step - loss: 1.8215 - accuracy: 0.3418 - val_loss: 1.6966 - val_accuracy: 0.4044\n",
            "Epoch 4/10\n",
            "98/98 [==============================] - 27s 270ms/step - loss: 1.7616 - accuracy: 0.3634 - val_loss: 1.6342 - val_accuracy: 0.4242\n",
            "Epoch 5/10\n",
            "98/98 [==============================] - 28s 277ms/step - loss: 1.7164 - accuracy: 0.3804 - val_loss: 1.6132 - val_accuracy: 0.4229\n",
            "Epoch 6/10\n",
            "98/98 [==============================] - 28s 275ms/step - loss: 1.6780 - accuracy: 0.3939 - val_loss: 1.5507 - val_accuracy: 0.4469\n",
            "Epoch 7/10\n",
            "98/98 [==============================] - 28s 280ms/step - loss: 1.6458 - accuracy: 0.4033 - val_loss: 1.5344 - val_accuracy: 0.4445\n",
            "Epoch 8/10\n",
            "98/98 [==============================] - 28s 273ms/step - loss: 1.6206 - accuracy: 0.4135 - val_loss: 1.5219 - val_accuracy: 0.4528\n",
            "Epoch 9/10\n",
            "98/98 [==============================] - 27s 272ms/step - loss: 1.5909 - accuracy: 0.4237 - val_loss: 1.4983 - val_accuracy: 0.4679\n",
            "Epoch 10/10\n",
            "98/98 [==============================] - 28s 278ms/step - loss: 1.5626 - accuracy: 0.4331 - val_loss: 1.4044 - val_accuracy: 0.4984\n"
          ]
        }
      ]
    },
    {
      "cell_type": "code",
      "source": [
        "# Compile the model\n",
        "model_sigmoid.compile(loss='categorical_crossentropy', optimizer=opt, metrics=['accuracy'])\n",
        "\n",
        "# Preprocess the data\n",
        "x_train = x_train.astype('float32')\n",
        "x_test = x_test.astype('float32')\n",
        "x_train /= 255\n",
        "x_test /= 255\n",
        "\n",
        "validation_accuracies_sigmoid = []\n",
        "\n",
        "if not data_augmentation:\n",
        "    print('Not using data augmentation.')\n",
        "    history_sigmoid = model_sigmoid.fit(x_train, y_train, batch_size=batch_size, epochs=epochs, validation_data=(x_test, y_test), shuffle=True)\n",
        "    validation_accuracies_sigmoid.append(history_sigmoid.history['val_accuracy'])\n",
        "else:\n",
        "    print('Using real-time data augmentation.')\n",
        "\n",
        "    # Data augmentation\n",
        "    datagen = ImageDataGenerator(\n",
        "        featurewise_center=False,\n",
        "        samplewise_center=False,\n",
        "        featurewise_std_normalization=False,\n",
        "        samplewise_std_normalization=False,\n",
        "        zca_whitening=False,\n",
        "        zca_epsilon=1e-06,\n",
        "        rotation_range=0,\n",
        "        width_shift_range=0.1,\n",
        "        height_shift_range=0.1,\n",
        "        shear_range=0,\n",
        "        zoom_range=0,\n",
        "        channel_shift_range=0,\n",
        "        fill_mode='nearest',\n",
        "        cval=0,\n",
        "        horizontal_flip=True,\n",
        "        vertical_flip=False,\n",
        "        rescale=None,\n",
        "        preprocessing_function=None,\n",
        "        data_format=None,\n",
        "        validation_split=0.0\n",
        "    )\n",
        "\n",
        "    # Compute quantities required for feature-wise normalization\n",
        "    datagen.fit(x_train)\n",
        "\n",
        "    # Fit the models with data augmentation\n",
        "    history_sigmoid = model_sigmoid.fit_generator(datagen.flow(x_train, y_train, batch_size=batch_size), epochs=epochs, validation_data=(x_test, y_test), workers=4)\n",
        "\n",
        "    validation_accuracies_sigmoid.append(history_sigmoid.history['val_accuracy'])\n"
      ],
      "metadata": {
        "colab": {
          "base_uri": "https://localhost:8080/"
        },
        "id": "7aAHxeLurP8m",
        "outputId": "ba9fe97d-74ff-468d-8739-02165159e39d"
      },
      "execution_count": null,
      "outputs": [
        {
          "output_type": "stream",
          "name": "stdout",
          "text": [
            "Using real-time data augmentation.\n"
          ]
        },
        {
          "output_type": "stream",
          "name": "stderr",
          "text": [
            "<ipython-input-17-c29c62643d58>:47: UserWarning: `Model.fit_generator` is deprecated and will be removed in a future version. Please use `Model.fit`, which supports generators.\n",
            "  history_sigmoid = model_sigmoid.fit_generator(datagen.flow(x_train, y_train, batch_size=batch_size), epochs=epochs, validation_data=(x_test, y_test), workers=4)\n"
          ]
        },
        {
          "output_type": "stream",
          "name": "stdout",
          "text": [
            "Epoch 1/10\n",
            "98/98 [==============================] - 29s 281ms/step - loss: 2.3806 - accuracy: 0.0994 - val_loss: 2.3040 - val_accuracy: 0.1000\n",
            "Epoch 2/10\n",
            "98/98 [==============================] - 29s 276ms/step - loss: 2.3079 - accuracy: 0.0984 - val_loss: 2.3030 - val_accuracy: 0.1000\n",
            "Epoch 3/10\n",
            "98/98 [==============================] - 28s 275ms/step - loss: 2.3043 - accuracy: 0.1006 - val_loss: 2.3033 - val_accuracy: 0.1000\n",
            "Epoch 4/10\n",
            "98/98 [==============================] - 28s 276ms/step - loss: 2.3038 - accuracy: 0.1011 - val_loss: 2.3027 - val_accuracy: 0.1000\n",
            "Epoch 5/10\n",
            "98/98 [==============================] - 28s 276ms/step - loss: 2.3036 - accuracy: 0.0988 - val_loss: 2.3027 - val_accuracy: 0.1000\n",
            "Epoch 6/10\n",
            "98/98 [==============================] - 28s 275ms/step - loss: 2.3033 - accuracy: 0.0984 - val_loss: 2.3027 - val_accuracy: 0.1000\n",
            "Epoch 7/10\n",
            "98/98 [==============================] - 28s 281ms/step - loss: 2.3034 - accuracy: 0.0975 - val_loss: 2.3027 - val_accuracy: 0.1000\n",
            "Epoch 8/10\n",
            "98/98 [==============================] - 28s 276ms/step - loss: 2.3032 - accuracy: 0.0980 - val_loss: 2.3027 - val_accuracy: 0.1000\n",
            "Epoch 9/10\n",
            "98/98 [==============================] - 28s 275ms/step - loss: 2.3033 - accuracy: 0.1002 - val_loss: 2.3027 - val_accuracy: 0.1000\n",
            "Epoch 10/10\n",
            "98/98 [==============================] - 28s 279ms/step - loss: 2.3033 - accuracy: 0.0981 - val_loss: 2.3026 - val_accuracy: 0.1000\n"
          ]
        }
      ]
    },
    {
      "cell_type": "code",
      "source": [
        "# Plot the validation accuracies\n",
        "plt.figure(figsize=(10, 6))\n",
        "plt.plot(range(1, epochs + 1), validation_accuracies[0], label='ReLU')\n",
        "plt.plot(range(1, epochs + 1), validation_accuracies_sigmoid[0], label='Sigmoid')\n",
        "\n",
        "plt.xlabel('Number of Epochs')\n",
        "plt.ylabel('Validation Accuracy')\n",
        "plt.title('Activation Function Comparison - Validation Accuracy')\n",
        "plt.legend()\n",
        "plt.grid(True)\n",
        "plt.show()"
      ],
      "metadata": {
        "colab": {
          "base_uri": "https://localhost:8080/",
          "height": 552
        },
        "id": "2JY0fIPRXaMN",
        "outputId": "72a88462-f6b0-4e36-860b-323554d81c9a"
      },
      "execution_count": null,
      "outputs": [
        {
          "output_type": "display_data",
          "data": {
            "text/plain": [
              "<Figure size 1000x600 with 1 Axes>"
            ],
            "image/png": "[encoded data removed]"
          },
          "metadata": {}
        }
      ]
    },
    {
      "cell_type": "code",
      "source": [],
      "metadata": {
        "id": "YrcCfJIsekmn"
      },
      "execution_count": null,
      "outputs": []
    }
  ]
}